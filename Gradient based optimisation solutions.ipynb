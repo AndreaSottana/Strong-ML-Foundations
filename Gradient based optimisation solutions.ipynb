{
 "cells": [
  {
   "cell_type": "markdown",
   "metadata": {},
   "source": [
    "# Gradient based optimisation"
   ]
  },
  {
   "cell_type": "markdown",
   "metadata": {},
   "source": [
    "## Prerequisites\n",
    "- [Intro to machine learning](https://github.com/AI-Core/Strong-ML-Foundations/blob/master/Intro%20to%20Machine%20Learning.ipynb)\n",
    "\n",
    "Previously, we saw how we could optimise parameters of our models using grid search and random search. These two techniques had some fundamental flaws though...\n",
    "- we had to specify the range which we would search for parameter values within, and this might not contain the optimal parameter values (e.g. if we search all parameters from 1 to 10, but the ideal parameter value is 15, then we will never find an optimal parameterisation)\n",
    "- we don't use information about a current parameterisation as a heuristic for where to search next. We simply take either a totally random value (random search) or a predetermined value (grid search)\n",
    "- to maintain the same resolution of search, the number of datapoints that you need scales exponentially with the number of parameters. This is very bad (the neural networks which we will use soon can easily have millions of parameters).\n",
    "\n",
    "This notebook will walk through how we can use **gradient based optimisation** as another technique to find model parameterisations that perform well."
   ]
  },
  {
   "cell_type": "markdown",
   "metadata": {},
   "source": [
    "## What is a gradient?\n",
    "\n",
    "Let's imagine a function with an output $Y$ and an input $X$, with parameters $W$ and $b$ such that $Y=WX+b$. The **gradient of $Y$ with respect to $W$** is the amount that Y changes when we increase $W$ by 1 unit and hold all other values constant. The sign of the gradient (negative or positive) specifies whether $Y$ will increase (+) or decrease (-) as a result of this unit change in $W$. The magnitude of this gradient is the amount by which $Y$ changes. \n",
    "\n",
    "The gradient may also be referred to as the **derivative**. A *total* derivative of $Y$ with respect to $W$ is denoted as $\\frac{dY}{dW}$. This is the amount that $Y$ changes as we increase $W$, not necessarily holding variables in the function that are not $W$ constant.\n",
    "\n",
    "We denote the partial derivative of $Y$ with respect to $W$ as $\\frac{\\partial Y}{\\partial W}$ when we hold all variables except from $W$ constant.\n",
    "\n",
    "In this case, where $Y=WX+b$,\n",
    "\n",
    "$\\frac{\\partial Y}{\\partial W} = X$\n",
    "\n",
    "$\\frac{\\partial Y}{\\partial X} = W$\n",
    "\n",
    "$\\frac{\\partial Y}{\\partial b} = 1$\n",
    "\n",
    "Anyway, you should already be comfortable with gradients. For more info on gradients, see [here](https://mml-book.github.io/book/mml-book.pdf)"
   ]
  },
  {
   "cell_type": "markdown",
   "metadata": {},
   "source": [
    "## What is gradient based optimisation all about?\n",
    "\n",
    "Grid search and random search evaluate the loss/error/cost (which tells us how bad our model is) for each different parameterisation that they test. \n",
    "\n",
    "Our loss is just a mathematical function that depends on the parameters of our model (for example, we used the mean squared error (MSE) loss function in the previous notebook).\n",
    "We would like to move our parameters to the point where loss is minimised.\n",
    "\n",
    "If we were to evaluate the value of our loss for every possible different parameterisation of our model, we would produce a **loss surface**. \n",
    "We would like to find the lowest point on this surface. \n",
    "At this point it will have a gradient (steepness) of zero with respect to the parameters.\n",
    "\n",
    "As our parameters move away from that minima in some direction, the gradient will increase in that direction.\n",
    "To get back to the minima, we should hence move our weights in the opposite direction.\n",
    "This tells us that wherever we are, we can decrease the current value of the loss by moving in the opposite \n",
    "direction to the gradient. This is at the core of gradient based optimisation.\n",
    "\n",
    "![](./images/grad-based-optim.jpg)\n",
    "\n",
    "Below is a more complex potential loss surface (vertical axis represents loss value, others represent parameter values).\n",
    "\n",
    "<img style=\"height: 200px\" src='./images/comp-loss-surface.png'/>\n",
    "\n",
    "**Note: because gradient based optimisation depends on us computing the gradient of the loss function, our loss function and model must be fully differentiable (they must be a smooth, continuous function).**"
   ]
  },
  {
   "cell_type": "markdown",
   "metadata": {},
   "source": [
    "## Let's start by creating some fake data which we will try to fit using gradient based optimisation"
   ]
  },
  {
   "cell_type": "code",
   "execution_count": 66,
   "metadata": {},
   "outputs": [
    {
     "data": {
      "image/png": "[encoded data removed]",
      "text/plain": [
       "<Figure size 432x288 with 1 Axes>"
      ]
     },
     "metadata": {
      "needs_background": "light"
     },
     "output_type": "display_data"
    }
   ],
   "source": [
    "# DON'T WORRY ABOUT THIS CELL, IT JUST SETS SOME STUFF UP THAT WAS CODED IN PREVIOUS NOTEBOOKS\n",
    "import numpy as np\n",
    "import matplotlib.pyplot as plt\n",
    "\n",
    "def sample_linear_data(m=20): \n",
    "    ground_truth_w = 2.3 # slope\n",
    "    ground_truth_b = -8 #intercept\n",
    "    X = np.random.randn(m)*2\n",
    "    Y = ground_truth_w*X + ground_truth_b + 0.2*np.random.randn(m)\n",
    "    return X, Y #returns X (the input) and Y (labels)\n",
    "\n",
    "def plot_data(X, Y):\n",
    "    plt.figure()\n",
    "    plt.scatter(X, Y, c='r')\n",
    "    plt.xlabel('X')\n",
    "    plt.ylabel('Y')\n",
    "    plt.show()\n",
    "    \n",
    "m = 50\n",
    "X, Y = sample_linear_data(m)\n",
    "plot_data(X, Y)\n",
    "\n",
    "def plot_h_vs_y(X, y_hat, Y):\n",
    "    plt.figure()\n",
    "    plt.scatter(X, Y, c='r', label='Label')\n",
    "    plt.scatter(X, y_hat, c='b', label='Hypothesis', marker='x')\n",
    "    plt.legend()\n",
    "    plt.xlabel('X')\n",
    "    plt.ylabel('Y')\n",
    "    plt.show()\n",
    "    \n",
    "# DEFINE MEAN SQUARED ERROR LOSS FUNCTION\n",
    "def L(y_hat, labels):\n",
    "    errors = y_hat - labels # calculate errors\n",
    "    squared_errors = np.square(errors) # square errors\n",
    "    mean_squared_error = np.sum(squared_errors) / (m) # calculate mean \n",
    "    return mean_squared_error # return loss"
   ]
  },
  {
   "cell_type": "markdown",
   "metadata": {},
   "source": [
    "## Gradient descent\n",
    "\n",
    "Gradient descent is an iterative, gradient based optimisation technique. As indicated above, we simply pass our data through our model and compute the gradient of the loss (which is a vector that points in the direction that our parameters should move to most increase the loss), then adjust the weights by a small amount in the opposite direction.\n",
    "\n",
    "### Gradient descent algorithm\n",
    "- randomly initialise model parameters\n",
    "- while not converged:\n",
    "    - Calculate the cost of this parameterisation (by evaluating how it performs on some examples) and the derivative of our cost with respect to (w.r.t) each parameter. This derivative points in the direction of steepest ascent (the gradient of the loss surface for this parameterisation). \n",
    "    - Update each parameter value by taking a step in the opposite direction. \n",
    "\n",
    "### The learning rate, $\\alpha$\n",
    "\n",
    "We will update our parameters by shifting them in the opposite direction to the gradient. But by what amount should we shift them in that direction?\n",
    "\n",
    "If the step size were some constant value, then our model might need to adjust its weights by some value smaller than this to reach a nearby minima. \n",
    "\n",
    "We know that the gradient at a minima is zero, and at this point we want our parameters to be moved with a step size of zero - so that they remain where they are, at the minima. So let's consider the weights of the model being updated by a step size proportional to the gradient. We call the proportionality constant the **learning rate**, and denote it as $\\alpha$.\n",
    "\n",
    "If the step size were directly equal to the gradient ($\\alpha=1$), gradient descent can fail to converge because the steps are too large (the same problem hence occurs if the learning rate is too large)\n",
    "\n",
    "![title](images/high-lr.jpg)\n",
    "\n",
    "So we include the learning rate to scale down the size of the steps. The learning rate should most likely be less than 1.\n",
    "\n",
    "If the learning rate is too low, then our model can take too long (too many gradient descent iterations) to converge\n",
    "\n",
    "![title](images/low-lr.jpg)\n",
    "\n",
    "You should play around with the learning rate and adjust it until your model converges.\n",
    "\n",
    "![title](images/convergence.jpg)\n",
    "\n",
    "The diagrams shown above visualise how a single weight affects the loss. A model with multiple weights would be optimised in the same way - we would just have more of these functions. We can think of each of the graphs as a cross section through a **loss surface**. A loss surface is shown below which visualises how the criterion of a model might vary with both parameters.\n",
    "\n",
    "<img style=\"height: 200px\" src='./images/comp-loss-surface.png'/>\n",
    "\n",
    "If we know the function that the loss is computed from and it is differentiable, then we can calculate the derivative of the loss with respect to our model parameters by hand.\n",
    "\n",
    "Below is a derivation for computing the rate of change (gradient) of the loss with respect to our model parameters when using a linear model and the mean squared error loss function.\n",
    "![title](images/NN1_single_grad_calc.jpg)\n",
    "\n",
    "Complete the class below to return the derivative of our loss w.r.t the weight and bias."
   ]
  },
  {
   "cell_type": "code",
   "execution_count": 5,
   "metadata": {},
   "outputs": [
    {
     "name": "stdout",
     "output_type": "stream",
     "text": [
      "-12.33806388907426 18.645804259675494\n"
     ]
    }
   ],
   "source": [
    "class LinearHypothesis:\n",
    "    def __init__(self): \n",
    "        self.w = np.random.randn() # weight\n",
    "        self.b = np.random.randn() # bias\n",
    "    \n",
    "    def __call__(self, X): # how do we calculate output from an input in our model?\n",
    "        y_hat = self.w*X + self.b\n",
    "        return y_hat\n",
    "    \n",
    "    def update_params(self, new_w, new_b):\n",
    "        self.w = new_w\n",
    "        self.b = new_b\n",
    "        \n",
    "    def calc_deriv(self, X, y_hat, labels):\n",
    "        diffs = y_hat - labels # calculate errors\n",
    "        dLdw = 2*np.array(np.sum(diffs*X) / m) # calculate derivative of loss with respect to weights\n",
    "        dLdb = 2*np.array(np.sum(diffs)/m) # calculate derivative of loss with respect to bias\n",
    "        return dLdw, dLdb\n",
    "    \n",
    "H = LinearHypothesis() # initialise our model\n",
    "y_hat = H(X) # make prediction\n",
    "dLdw, dLdb = H.calc_deriv(X, y_hat, Y) # calculate gradient of current loss with respect to model parameters\n",
    "print(dLdw, dLdb)"
   ]
  },
  {
   "cell_type": "markdown",
   "metadata": {},
   "source": [
    "Now that we can complete the derivatives, complete the train function below to iteratively improve our parameter estimates to minimize the cost"
   ]
  },
  {
   "cell_type": "code",
   "execution_count": 6,
   "metadata": {},
   "outputs": [
    {
     "name": "stdout",
     "output_type": "stream",
     "text": [
      "Final cost: 1.7652578622841164\n",
      "Weight values: 2.2590196027136136\n",
      "Bias values: -6.997999813037009\n"
     ]
    },
    {
     "data": {
      "image/png": "[encoded data removed]",
      "text/plain": [
       "<Figure size 432x288 with 1 Axes>"
      ]
     },
     "metadata": {
      "needs_background": "light"
     },
     "output_type": "display_data"
    },
    {
     "data": {
      "image/png": "[encoded data removed]",
      "text/plain": [
       "<Figure size 432x288 with 1 Axes>"
      ]
     },
     "metadata": {
      "needs_background": "light"
     },
     "output_type": "display_data"
    }
   ],
   "source": [
    "num_epochs = 10\n",
    "learning_rate = 0.1\n",
    "H = LinearHypothesis()\n",
    "\n",
    "def train(num_epochs, X, Y, H, L, plot_cost_curve=False):\n",
    "    all_costs = [] # initialise empty list of costs to plot later\n",
    "    for e in range(num_epochs): # for this many complete runs through the dataset\n",
    "        y_hat = H(X) # make predictions\n",
    "        cost = L(y_hat, Y) # compute loss \n",
    "        dLdw, dLdb = H.calc_deriv(X, y_hat, Y) # calculate gradient of current loss with respect to model parameters\n",
    "        new_w = H.w - learning_rate * dLdw # compute new model weight using gradient descent update rule\n",
    "        new_b = H.b - learning_rate * dLdb # compute new model bias using gradient descent update rule\n",
    "        H.update_params(new_w, new_b) # update model weight and bias\n",
    "        all_costs.append(cost) # add cost for this batch of examples to the list of costs (for plotting)\n",
    "    if plot_cost_curve: # plot stuff\n",
    "        plt.figure() # make a figure\n",
    "        plt.ylabel('Cost')\n",
    "        plt.xlabel('Epoch')\n",
    "        plt.plot(all_costs) # plot costs\n",
    "    print('Final cost:', cost)\n",
    "    print('Weight values:', H.w)\n",
    "    print('Bias values:', H.b)\n",
    "    #return cost, H.w\n",
    "    \n",
    "train(num_epochs, X, Y, H, L, plot_cost_curve=True) # train model and plot cost curve\n",
    "plot_h_vs_y(X, H(X), Y) # plot predictions and true data"
   ]
  },
  {
   "cell_type": "markdown",
   "metadata": {},
   "source": [
    "## Why gradient based optimisation?\n",
    "We previously mentioned issues with grid search and random search:\n",
    "- our search region not containing an optimal parameterisation for our model\n",
    "- exponential increase in runtime with each additional parameter\n",
    "\n",
    "But beyond these, an advantage of using gradient based optimisation is that it follows a **heuristic** - an indication of how to improve. The heuristic is the gradient, which indicates what might be a good way to improve the weights. \n",
    "Grid and random search are not heuristic search methods. Each time they try a new parameterisation, they don't get any more information about where might be a good next parameterisation. Instead, they simply try a new set of values by choosing totally randomly (random search) or by picking a predetermined value at the next point on the grid (grid search).\n",
    "\n",
    "By using gradient descent, which follows a heuristic indication of where to try next (down the hill), our model can converge in much less iterations compared to grid or random search. If we firstly initialise our parameters near to the optima on the loss surface, gradient descent might only need a few updates, whereas grid or random searches will always take the same amount of time."
   ]
  },
  {
   "cell_type": "markdown",
   "metadata": {},
   "source": [
    "### Why should we not pass the whole dataset through the model for each update?\n",
    "We know that to perform gradient based optimisation we need to pass inputs through the model (forward pass), and then compute the loss and find how it changes with respect to each of our model's parameters (backward pass). Modern datasets can be absolutely huge. This means that the forward pass can take a long time, as the function which our model represents has to be applied to each and every input given to it for a forward pass.\n",
    "\n",
    "Passing the full dataset through the model at each pass is called **full batch gradient descent**.\n",
    "\n",
    "### Why not just pass a single datapoint to the model for each update?\n",
    "We want our model to perform well on all examples, not just single examples. So we want to compute the loss and associated gradients over several examples to get an average gradient that should lead to better performance across any example, not just this specific one. If we only pass a single example through, the gradient won't be based on a representative sample.\n",
    "\n",
    "Passing single examples through the model at each pass is called **stochastic gradient descent**.\n",
    "\n",
    "## Mini-batch gradient descent\n",
    "The modern way to do training is neither full-batch (whole dataset) or fully stochastic (single datapoint). Instead we use mini-batch training, where we sample several (but not all) datapoints to compute a sample of the gradient, which we then use to update the model. Most optimisation algorithms converge much faster if they are allowed to rapidly compute approximate gradients rather than slowly compute exact gradients. The size of the mini-batch is called the **batch size**. Mini-batches are commonly incorrectly referred to as batches, but it's not that deep. \n",
    "\n",
    "We will experiment with the effect of batch size on the training later."
   ]
  },
  {
   "cell_type": "code",
   "execution_count": 7,
   "metadata": {},
   "outputs": [
    {
     "name": "stdout",
     "output_type": "stream",
     "text": [
      "[array([[  0.45799791,  -2.3248527 ,   0.55923038,  -0.63919798],\n",
      "       [ -6.85061293, -13.34836063,  -7.0453984 ,  -8.91623928]]), array([[  0.99687095,  -1.82892223,  -1.21210407,   1.6438415 ],\n",
      "       [ -5.80035784, -12.35961331, -11.03832157,  -4.14365557]]), array([[ -0.58831206,  -1.23976505,  -1.20325613,   0.39818565],\n",
      "       [ -9.22116564, -10.85250806, -10.83710082,  -6.81819472]]), array([[ -0.61906694,   0.70571833,  -1.36013345,   0.48801835],\n",
      "       [ -9.12990259,  -6.49527346, -11.23051816,  -6.669073  ]]), array([[ 2.71835058,  1.15657447,  1.29515229,  0.12213295],\n",
      "       [-1.93279151, -5.69515654, -4.90552429, -7.72005603]]), array([[ 1.90022557,  1.88660385,  5.05793589,  2.29995235],\n",
      "       [-3.93363485, -3.65226603,  3.5109014 , -2.75630589]]), array([[  3.7096034 ,  -3.61904993,   2.22311047,  -1.03275958],\n",
      "       [  0.11629071, -16.31210454,  -2.97717698, -10.60732686]]), array([[  0.80117067,   0.91367047,   1.6091016 ,  -1.42362397],\n",
      "       [ -6.53861765,  -5.85837992,  -4.35545129, -11.37582958]]), array([[ -0.94933879,   1.07326214,   3.11502133,  -1.80666862],\n",
      "       [-10.04405444,  -5.48420534,  -0.9199981 , -12.11389694]]), array([[ -5.23091788,  -1.33123233,  -0.89781046,  -0.09178038],\n",
      "       [-20.14120473, -10.88630332, -10.32515237,  -8.26515395]]), array([[ -1.66863279,   4.6129591 ,   1.54084199,  -0.89932583],\n",
      "       [-11.83268954,   2.45132328,  -4.47703859, -10.01874544]]), array([[ -4.89016787,   1.30179264,   1.48457308,  -2.49536491],\n",
      "       [-19.3666318 ,  -5.32665248,  -4.63441053, -13.95852827]]), array([[  0.66097054,  -2.70244643],\n",
      "       [ -6.40832401, -14.42054191]])]\n",
      "13\n"
     ]
    }
   ],
   "source": [
    "from time import time\n",
    "from random import shuffle\n",
    "\n",
    "def create_batches(dataset, batch_size=4):\n",
    "    shuffle(dataset) # shuffle the dataset\n",
    "    idx = 0 # initialise starting point in dataset (index of first example to be put into the next batch)\n",
    "    batches = []\n",
    "    while idx < len(dataset): # while starting point index is less than the length of the dataset \n",
    "        if idx + batch_size < len(dataset): # if enough examples remain to make a whole batch\n",
    "            batch = dataset[idx: idx + batch_size] # make a batch from those examples \n",
    "        else: # otherwise\n",
    "            batch = dataset[idx:] # take however many examples remain (less than batch size)\n",
    "        batches.append(batch) # add this batch to the list of batches\n",
    "        idx += batch_size # increment the starting point for the next batch\n",
    "    batches = [np.array(list(zip(*b))) for b in batches] # unzip the batches into lists of inputs and outputs so batch = [all_inputs, all_outputs] rather than batch = [(input_1, output_1), ..., (input_batch_size, output_batch_size)]\n",
    "    return batches\n",
    "\n",
    "dataset = list(zip(X, Y))\n",
    "data_loader = create_batches(dataset, batch_size=4)\n",
    "print(data_loader)\n",
    "print(len(data_loader)) # should be m / batch_size rounded up"
   ]
  },
  {
   "cell_type": "markdown",
   "metadata": {},
   "source": [
    "Now let's update our training function so that it performs mini-batch gradient descent"
   ]
  },
  {
   "cell_type": "code",
   "execution_count": 65,
   "metadata": {
    "scrolled": true
   },
   "outputs": [
    {
     "name": "stdout",
     "output_type": "stream",
     "text": [
      "Full batch training\n",
      "Average inference (prediction) time: 0.011 milliseconds\n",
      "Average weight update time: 0.030 milliseconds\n",
      "Final cost: 0.04009431421221908\n",
      "\n",
      "Stochastic training\n",
      "Average inference (prediction) time: 0.003 milliseconds\n",
      "Average weight update time: 0.012 milliseconds\n",
      "Final cost: 4.725012852822647e-08\n",
      "\n",
      "Mini-batch training\n",
      "Average inference (prediction) time: 0.003 milliseconds\n",
      "Average weight update time: 0.012 milliseconds\n",
      "Final cost: 5.745928141965905e-05\n",
      "\n"
     ]
    }
   ],
   "source": [
    "learning_rate = 0.001\n",
    "H = LinearHypothesis()\n",
    "m = 10000\n",
    "num_updates = 10 * m\n",
    "X, Y = sample_linear_data(m)\n",
    "dataset = list(zip(X, Y))\n",
    "\n",
    "def train(num_updates, data_loader, H, L, plot_cost_curve=False, plot_h=False):\n",
    "    costs = [] # initialise empty list of costs to plot later\n",
    "    update_idx = 0\n",
    "    inference_times = []\n",
    "    update_times = []\n",
    "    while update_idx < num_updates: # for this many complete runs through the dataset\n",
    "        batch_costs = []\n",
    "        for x, y in data_loader:\n",
    "            inference_start = time() # get time at start of inference\n",
    "            y_hat = H(x) # make predictions\n",
    "            inference_times.append(time() - inference_start) # add duration of inference\n",
    "            cost = L(y_hat, y) # compute loss \n",
    "            update_start = time()\n",
    "            dLdw, dLdb = H.calc_deriv(x, y_hat, y) # calculate gradient of current loss with respect to model parameters\n",
    "            new_w = H.w - learning_rate * dLdw # compute new model weight using gradient descent update rule\n",
    "            new_b = H.b - learning_rate * dLdb # compute new model bias using gradient descent update rule\n",
    "            H.update_params(new_w, new_b) # update model weight and bias\n",
    "            update_times.append(time() - update_start)\n",
    "            update_idx += 1\n",
    "            batch_costs.append(cost)\n",
    "            #prop_complete = round((update_idx / num_updates) * 100)     \n",
    "            #print('\\r' + [\"|\", \"/\", \"-\", \"\\\\\"][update_idx % 4], end='')\n",
    "            #print(f'\\r[{prop_complete * \"=\" + (0 - prop_complete) * \"-\"}]', end='')\n",
    "        costs.append(np.mean(batch_costs)) # add cost for this batch of examples to the list of costs (for plotting)\n",
    "    if plot_cost_curve: # plot stuff\n",
    "        plt.figure() # make a figure\n",
    "        plt.ylabel('Cost')\n",
    "        plt.xlabel('Update idx')\n",
    "        plt.plot(costs) # plot costs\n",
    "        plt.show()\n",
    "    if plot_h:\n",
    "        plot_h_vs_y(X, H(X), Y)\n",
    "    print(f'Average inference (prediction) time: {np.mean(inference_times)*1000:.3f} milliseconds')\n",
    "    print(f'Average weight update time: {np.mean(update_times)*1000:.3f} milliseconds')\n",
    "    print('Final cost:', cost)\n",
    "#     print('Weight values:', H.w)\n",
    "#     print('Bias values:', H.b)\n",
    "    print()\n",
    "    \n",
    "\n",
    "print('Full batch training')\n",
    "full_batch_data_loader = create_batches(dataset, batch_size=len(dataset))\n",
    "train(num_updates, full_batch_data_loader, H, L, plot_cost_curve=False)\n",
    "\n",
    "print('Stochastic training')\n",
    "stochastic_data_loader = create_batches(dataset, batch_size=1)\n",
    "train(num_updates, stochastic_data_loader, H, L, plot_cost_curve=False)\n",
    "\n",
    "print('Mini-batch training')\n",
    "mini_batch_data_loader = create_batches(dataset, batch_size=32)\n",
    "train(num_updates, mini_batch_data_loader, H, L, plot_cost_curve=False)"
   ]
  },
  {
   "cell_type": "markdown",
   "metadata": {},
   "source": [
    "We can see here that stochastic and mini-batch training perform inference (making predictions) >3x faster and make updates 2.5x faster than full batch training. For larger datasets or inputs, these differences would be exaggerated even further. This is because the model has to pass the whole dataset forward to make a prediction and then compute the average gradient from every single one of those values to compute the weight and bias updates.\n",
    "\n",
    "For a larger dataset with more complex example features and/or labels, stochastic gradient descent may not converge, because single examples may rarely produce a gradient that is representative of an update that would reduce the error for all examples, rather than just this example.\n",
    "\n",
    "## You made it!\n",
    "In this notebook we covered what gradient based optimisation is and why it can be advantageous compared to grid or random search.\n",
    "We also learnt about why it can be useful to load our dataset to our model in mini-batches, and implemented this in code."
   ]
  },
  {
   "cell_type": "markdown",
   "metadata": {},
   "source": [
    "## Next steps \n",
    "- [Multivariate regression and feature normalisation](https://github.com/AI-Core/Strong-ML-Foundations/blob/master/Multivariate%20regression%20and%20feature%20normalisation.ipynb)"
   ]
  }
 ],
 "metadata": {
  "kernelspec": {
   "display_name": "Python 3",
   "language": "python",
   "name": "python3"
  },
  "language_info": {
   "codemirror_mode": {
    "name": "ipython",
    "version": 3
   },
   "file_extension": ".py",
   "mimetype": "text/x-python",
   "name": "python",
   "nbconvert_exporter": "python",
   "pygments_lexer": "ipython3",
   "version": "3.7.4"
  }
 },
 "nbformat": 4,
 "nbformat_minor": 2
}
